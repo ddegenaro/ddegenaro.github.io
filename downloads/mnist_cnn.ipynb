{
  "nbformat": 4,
  "nbformat_minor": 0,
  "metadata": {
    "colab": {
      "provenance": [],
      "gpuType": "T4"
    },
    "kernelspec": {
      "name": "python3",
      "display_name": "Python 3"
    },
    "language_info": {
      "name": "python"
    },
    "accelerator": "GPU"
  },
  "cells": [
    {
      "cell_type": "markdown",
      "source": [
        "# Notebook 2 - CNNs in PyTorch\n",
        "\n",
        "In this assignment, you'll implement some Convolutional Neural Networks (CNNs) in PyTorch."
      ],
      "metadata": {
        "id": "AV9LBf4nBDg_"
      }
    },
    {
      "cell_type": "markdown",
      "source": [
        "## Setting up\n",
        "\n",
        "We'll start by importing the following:\n",
        "- [`torch`](https://pytorch.org/docs/stable/torch.html) - the core PyTorch library.\n",
        "- [`torch.nn`](https://pytorch.org/docs/stable/nn.html) - a module containing building blocks for NNs such as linear layers, convolutional layers, and so on.\n",
        "- [`torch.nn.functional`](https://pytorch.org/docs/stable/nn.functional.html) - a module containing activation functions, loss functions, and so on.\n",
        "- [`torch.optim`](https://pytorch.org/docs/stable/optim.html) - a module containing optimizers which update the parameters of a NN.\n",
        "- [`DataLoader`](https://pytorch.org/docs/stable/data.html#torch.utils.data.DataLoader) in [`torch.utils.data`](https://pytorch.org/docs/stable/data.html) - Can be used to batch data together and iterate over batches, shuffle data, and parallelize the training process to speed it up.\n",
        "- [`MNIST`](https://pytorch.org/vision/stable/generated/torchvision.datasets.MNIST.html) in [`torchvision.datasets`](https://pytorch.org/vision/stable/datasets.html) - The [MNIST dataset](https://en.wikipedia.org/wiki/MNIST_database) is a collection of images of handwritten digits.\n",
        "- [`ToTensor`](https://pytorch.org/vision/stable/generated/torchvision.transforms.ToTensor.html#torchvision.transforms.ToTensor) in [`torchvision.transforms`](https://pytorch.org/vision/0.9/transforms.html) - Converts PIL images or NumPy arrays to PyTorch tensors."
      ],
      "metadata": {
        "id": "ppx9vYd7U9fu"
      }
    },
    {
      "cell_type": "code",
      "source": [
        "# imports\n",
        "import torch\n",
        "import torch.nn as nn\n",
        "import torch.nn.functional as F\n",
        "import torch.optim as optim\n",
        "from torch.utils.data import DataLoader\n",
        "\n",
        "from torchvision.datasets import MNIST\n",
        "from torchvision.transforms.v2 import ToTensor\n",
        "from torchvision import datasets, transforms\n",
        "\n",
        "# seeding ensures that any \"randomness\" is reproducible\n",
        "torch.manual_seed(42)"
      ],
      "metadata": {
        "id": "l74HSkVDtdzo",
        "colab": {
          "base_uri": "https://localhost:8080/"
        },
        "outputId": "5f3d1d12-5dd7-420b-b0fe-297ef9afdaec"
      },
      "execution_count": null,
      "outputs": [
        {
          "output_type": "execute_result",
          "data": {
            "text/plain": [
              "<torch._C.Generator at 0x7c3719e7a0d0>"
            ]
          },
          "metadata": {},
          "execution_count": 1
        }
      ]
    },
    {
      "cell_type": "markdown",
      "source": [
        "## Data\n",
        "\n",
        "Let's define a transformation for the [MNIST dataset](https://en.wikipedia.org/wiki/MNIST_database).\n",
        "\n",
        "We'll first cast the images to PyTorch tensors using [`transforms.ToTensor()`](https://pytorch.org/vision/master/generated/torchvision.transforms.ToTensor.html). These tensors are automatically normalized such that their values are between 0 and 1.\n",
        "\n",
        "Then, we'll re-normalize the pixel values with [`transforms.Normalize()`](https://pytorch.org/vision/main/generated/torchvision.transforms.Normalize.html) to conform approximately to a standard normal distribution, assuming the mean and standard deviation of any channel of the returned tensor to be 0.5. This is not an unreasonable assumption. It's also a fairly standard thing to do to squash inputs to be in (or close to) the range [-1,1], which is where neural networks work best in terms of converging when performing optimization."
      ],
      "metadata": {
        "id": "pmcSEpkOcA6p"
      }
    },
    {
      "cell_type": "code",
      "source": [
        "# MNIST transform - single channel, so only 1 mean and 1 SD\n",
        "mnist_transform = transforms.Compose([\n",
        "    transforms.ToTensor(),\n",
        "    transforms.Normalize((0.1308,), (0.3016,))\n",
        "])"
      ],
      "metadata": {
        "id": "OjvbG0f7hF3N"
      },
      "execution_count": null,
      "outputs": []
    },
    {
      "cell_type": "markdown",
      "source": [
        "Let's load up the MNIST dataset. You can specify the split you want using `train=True|False`. `root` is the directory where the dataset will be saved. You can also directly apply the transform from the previous cell by specifying `transform`."
      ],
      "metadata": {
        "id": "8RI612Kn8jUX"
      }
    },
    {
      "cell_type": "code",
      "source": [
        "# MNIST data\n",
        "train_dataset = MNIST(\n",
        "    root='./data',\n",
        "    train=True,\n",
        "    download=True,\n",
        "    transform=mnist_transform\n",
        ")\n",
        "\n",
        "# split the given 'test' set into into val/test\n",
        "non_train_dataset = MNIST(\n",
        "    root='./data',\n",
        "    train=False,\n",
        "    download=True,\n",
        "    transform=mnist_transform\n",
        ")\n",
        "\n",
        "val_dataset, test_dataset = torch.utils.data.random_split(\n",
        "    non_train_dataset,\n",
        "     [5000, 5000]\n",
        ")"
      ],
      "metadata": {
        "id": "Ob7JPEEabfTR",
        "colab": {
          "base_uri": "https://localhost:8080/"
        },
        "outputId": "04a95950-c523-4e69-dda2-673210bc7b76"
      },
      "execution_count": null,
      "outputs": [
        {
          "output_type": "stream",
          "name": "stdout",
          "text": [
            "Downloading http://yann.lecun.com/exdb/mnist/train-images-idx3-ubyte.gz\n",
            "Failed to download (trying next):\n",
            "HTTP Error 404: Not Found\n",
            "\n",
            "Downloading https://ossci-datasets.s3.amazonaws.com/mnist/train-images-idx3-ubyte.gz\n",
            "Downloading https://ossci-datasets.s3.amazonaws.com/mnist/train-images-idx3-ubyte.gz to ./data/MNIST/raw/train-images-idx3-ubyte.gz\n"
          ]
        },
        {
          "output_type": "stream",
          "name": "stderr",
          "text": [
            "100%|██████████| 9.91M/9.91M [00:00<00:00, 11.5MB/s]\n"
          ]
        },
        {
          "output_type": "stream",
          "name": "stdout",
          "text": [
            "Extracting ./data/MNIST/raw/train-images-idx3-ubyte.gz to ./data/MNIST/raw\n",
            "\n",
            "Downloading http://yann.lecun.com/exdb/mnist/train-labels-idx1-ubyte.gz\n",
            "Failed to download (trying next):\n",
            "HTTP Error 404: Not Found\n",
            "\n",
            "Downloading https://ossci-datasets.s3.amazonaws.com/mnist/train-labels-idx1-ubyte.gz\n",
            "Downloading https://ossci-datasets.s3.amazonaws.com/mnist/train-labels-idx1-ubyte.gz to ./data/MNIST/raw/train-labels-idx1-ubyte.gz\n"
          ]
        },
        {
          "output_type": "stream",
          "name": "stderr",
          "text": [
            "100%|██████████| 28.9k/28.9k [00:00<00:00, 346kB/s]\n"
          ]
        },
        {
          "output_type": "stream",
          "name": "stdout",
          "text": [
            "Extracting ./data/MNIST/raw/train-labels-idx1-ubyte.gz to ./data/MNIST/raw\n",
            "\n",
            "Downloading http://yann.lecun.com/exdb/mnist/t10k-images-idx3-ubyte.gz\n",
            "Failed to download (trying next):\n",
            "HTTP Error 404: Not Found\n",
            "\n",
            "Downloading https://ossci-datasets.s3.amazonaws.com/mnist/t10k-images-idx3-ubyte.gz\n",
            "Downloading https://ossci-datasets.s3.amazonaws.com/mnist/t10k-images-idx3-ubyte.gz to ./data/MNIST/raw/t10k-images-idx3-ubyte.gz\n"
          ]
        },
        {
          "output_type": "stream",
          "name": "stderr",
          "text": [
            "100%|██████████| 1.65M/1.65M [00:00<00:00, 3.20MB/s]\n"
          ]
        },
        {
          "output_type": "stream",
          "name": "stdout",
          "text": [
            "Extracting ./data/MNIST/raw/t10k-images-idx3-ubyte.gz to ./data/MNIST/raw\n",
            "\n",
            "Downloading http://yann.lecun.com/exdb/mnist/t10k-labels-idx1-ubyte.gz\n",
            "Failed to download (trying next):\n",
            "HTTP Error 404: Not Found\n",
            "\n",
            "Downloading https://ossci-datasets.s3.amazonaws.com/mnist/t10k-labels-idx1-ubyte.gz\n",
            "Downloading https://ossci-datasets.s3.amazonaws.com/mnist/t10k-labels-idx1-ubyte.gz to ./data/MNIST/raw/t10k-labels-idx1-ubyte.gz\n"
          ]
        },
        {
          "output_type": "stream",
          "name": "stderr",
          "text": [
            "100%|██████████| 4.54k/4.54k [00:00<00:00, 4.11MB/s]"
          ]
        },
        {
          "output_type": "stream",
          "name": "stdout",
          "text": [
            "Extracting ./data/MNIST/raw/t10k-labels-idx1-ubyte.gz to ./data/MNIST/raw\n",
            "\n"
          ]
        },
        {
          "output_type": "stream",
          "name": "stderr",
          "text": [
            "\n"
          ]
        }
      ]
    },
    {
      "cell_type": "code",
      "source": [
        "len(train_dataset), len(val_dataset), len(test_dataset)"
      ],
      "metadata": {
        "id": "nde0LYk1hpri",
        "colab": {
          "base_uri": "https://localhost:8080/"
        },
        "outputId": "4fb26685-1bc1-47f2-9939-f267bce7cb69"
      },
      "execution_count": null,
      "outputs": [
        {
          "output_type": "execute_result",
          "data": {
            "text/plain": [
              "(60000, 5000, 5000)"
            ]
          },
          "metadata": {},
          "execution_count": 4
        }
      ]
    },
    {
      "cell_type": "markdown",
      "source": [
        "Let's define `DataLoader` objects for the MNIST data now.\n",
        "\n",
        "We'll use a (mini) batch size of 32. It's common to use powers of 2 in deep learning because it's more efficient to handle such numbers on hardware.\n",
        "\n",
        "We'll define separate `DataLoader` objects to handle our training and test splits to avoid data leakage (training on the test set or testing on the train set).\n",
        "\n",
        "We'll also have the `DataLoader` objects shuffle our data whenever we iterate over them (`shuffle=True`). Shuffling data at each epoch is beneficial in that the model won't be optimized in a way that depends on a specific ordering of the data.\n",
        "\n",
        "Finally, we'll parallelize the loading of the data using 4 CPU processes to load data (`num_workers=4`)."
      ],
      "metadata": {
        "id": "lb2XIf19cnsq"
      }
    },
    {
      "cell_type": "code",
      "source": [
        "# dataloaders\n",
        "batch_size = 32\n",
        "\n",
        "train_loader = DataLoader(\n",
        "    train_dataset,\n",
        "    batch_size=batch_size,\n",
        "    shuffle=True,\n",
        "    num_workers=4\n",
        ")\n",
        "\n",
        "val_loader = DataLoader(\n",
        "    val_dataset,\n",
        "    batch_size=batch_size,\n",
        "    shuffle=True,\n",
        "    num_workers=4\n",
        ")\n",
        "\n",
        "test_loader = DataLoader(\n",
        "    test_dataset,\n",
        "    batch_size=batch_size,\n",
        "    shuffle=True,\n",
        "    num_workers=4\n",
        ")"
      ],
      "metadata": {
        "id": "93SCDUnGji8m",
        "colab": {
          "base_uri": "https://localhost:8080/"
        },
        "outputId": "a6402da9-da97-4fd6-a21b-5cd735b02cff"
      },
      "execution_count": null,
      "outputs": [
        {
          "output_type": "stream",
          "name": "stderr",
          "text": [
            "/usr/local/lib/python3.11/dist-packages/torch/utils/data/dataloader.py:617: UserWarning: This DataLoader will create 4 worker processes in total. Our suggested max number of worker in current system is 2, which is smaller than what this DataLoader is going to create. Please be aware that excessive worker creation might get DataLoader running slow or even freeze, lower the worker number to avoid potential slowness/freeze if necessary.\n",
            "  warnings.warn(\n"
          ]
        }
      ]
    },
    {
      "cell_type": "markdown",
      "source": [
        "## Defining and training CNNs\n",
        "\n",
        "We'll define `criterion` to be [`nn.CrossEntropyLoss`](https://pytorch.org/docs/stable/generated/torch.nn.CrossEntropyLoss.html), a common loss function used to train classification models.\n",
        "\n",
        "We'll also define an optmizizer (we can look at both [`optim.SGD`](https://pytorch.org/docs/stable/generated/torch.optim.SGD.html) and [`optim.Adam`](https://pytorch.org/docs/stable/generated/torch.optim.Adam.html)), which will optimize the parameters of `net`. We can set up some defaults for our hyperparameters: learning rate (`lr=0.0001`) and momentum (`momentum=0.1`)."
      ],
      "metadata": {
        "id": "KZpzVZUjcJSi"
      }
    },
    {
      "cell_type": "code",
      "source": [
        "# Loss fuction and optimizer\n",
        "def get_crit_and_opt(net, kind='SGD', lr=0.0001, momentum=0.1):\n",
        "    criterion = nn.CrossEntropyLoss()\n",
        "    if kind == 'SGD':\n",
        "        optimizer = optim.SGD(net.parameters(), lr=lr, momentum=momentum)\n",
        "    elif kind == 'Adam':\n",
        "        optimizer = optim.Adam(net.parameters(), lr=lr)\n",
        "    else:\n",
        "        raise ValueError('Invalid optimizer type')\n",
        "    return criterion, optimizer"
      ],
      "metadata": {
        "id": "yNEwqv8rkQNM"
      },
      "execution_count": null,
      "outputs": []
    },
    {
      "cell_type": "markdown",
      "source": [
        "Let's see how [LeNet5](https://ieeexplore.ieee.org/document/726791) (Lecun et al. 1998) is implemented. The architecture looks something like this:"
      ],
      "metadata": {
        "id": "f1kVjROgsGyF"
      }
    },
    {
      "cell_type": "markdown",
      "source": [
        "![](https://drive.google.com/uc?export=view&id=1PwYfmSXqBnosIQi-ewrr03Ibd_lmRtea)"
      ],
      "metadata": {
        "id": "R-mgpop1bcN7"
      }
    },
    {
      "cell_type": "markdown",
      "source": [
        "LeNet5 is compatible with the MNIST dataset. Let's see how to implement the architecture in PyTorch:"
      ],
      "metadata": {
        "id": "aAbXzjDJsrWb"
      }
    },
    {
      "cell_type": "code",
      "source": [
        "class LeNet(nn.Module):\n",
        "\n",
        "    def __init__(self, debug=False):\n",
        "        self.debug = debug\n",
        "        super(LeNet, self).__init__()\n",
        "\n",
        "        # 1 input image channel, 6 output channels, 5x5 square convolution\n",
        "        self.conv1 = nn.Conv2d(1, 6, 5, padding=2) # pad the image: width 2\n",
        "\n",
        "        # 6 input channels to 16 output channels with square 5x5 convolution\n",
        "        self.conv2 = nn.Conv2d(6, 16, 5)\n",
        "\n",
        "        # affine operations: y = Wx + b\n",
        "        # 16 channels each of size 5x5 to 1x120 vector\n",
        "        self.fc1 = nn.Linear(16 * 5 * 5, 120)\n",
        "        self.fc2 = nn.Linear(120, 84) # 1x120 vector to 1x84 vector\n",
        "        self.fc3 = nn.Linear(84, 10) # 1x84 vector to 1x10 vector\n",
        "\n",
        "    def forward(self, x):\n",
        "\n",
        "        # 2d convolution\n",
        "        conv1_out = self.conv1(x)\n",
        "\n",
        "        # sigmoid activation\n",
        "        sig1_out = F.sigmoid(conv1_out)\n",
        "\n",
        "        # average pooling over a 2x2 window\n",
        "        pool1_out = F.avg_pool2d(sig1_out, (2, 2))\n",
        "\n",
        "        # second conv\n",
        "        conv2_out = self.conv2(pool1_out)\n",
        "\n",
        "        # another sigmoid\n",
        "        sig2_out = F.sigmoid(conv2_out)\n",
        "\n",
        "        # If the size is a square, you can specify with a single number: just 2\n",
        "        pool2_out = F.avg_pool2d(sig2_out, 2)\n",
        "\n",
        "        # flatten all dimensions except the batch dimension\n",
        "        # 1 means \"from dimension 1 onward\"\n",
        "        flat = torch.flatten(pool2_out, 1)\n",
        "\n",
        "        # first fully connected layer\n",
        "        fc1_out = self.fc1(flat)\n",
        "\n",
        "        # sigmoid again\n",
        "        sig3_out = F.sigmoid(fc1_out)\n",
        "\n",
        "        # second fully connected layer\n",
        "        fc2_out = self.fc2(sig3_out)\n",
        "\n",
        "        # final sigmoid\n",
        "        sig4_out = F.sigmoid(fc2_out)\n",
        "\n",
        "        # final fully connected layer\n",
        "        output = self.fc3(sig4_out)\n",
        "\n",
        "        if self.debug:\n",
        "            print('             input:', x.shape)\n",
        "            print('       after conv1:', conv1_out.shape)\n",
        "            print('    after sigmoid1:', sig1_out.shape)\n",
        "            print('    after avgpool1:', pool1_out.shape)\n",
        "            print('       after conv2:', conv2_out.shape)\n",
        "            print('    after sigmoid2:', sig2_out.shape)\n",
        "            print('    after avgpool2:', pool2_out.shape)\n",
        "            print('         flattened:', flat.shape)\n",
        "            print('         after fc1:', fc1_out.shape)\n",
        "            print('    after sigmoid3:', sig3_out.shape)\n",
        "            print('         after fc2:', fc2_out.shape)\n",
        "            print('    after sigmoid4:', fc2_out.shape)\n",
        "            print('after fc3 (output):', output.shape)\n",
        "\n",
        "        return output"
      ],
      "metadata": {
        "id": "3wg7aZ5PFfem"
      },
      "execution_count": null,
      "outputs": []
    },
    {
      "cell_type": "markdown",
      "source": [
        "Let's test a forward pass:"
      ],
      "metadata": {
        "id": "vWj7mso4uhNO"
      }
    },
    {
      "cell_type": "code",
      "source": [
        "debug_net = LeNet(debug=True)\n",
        "\n",
        "for images, labels in train_loader:\n",
        "    with torch.no_grad():\n",
        "        output = debug_net(images)\n",
        "    break"
      ],
      "metadata": {
        "id": "Ri2mAzoEujI5",
        "colab": {
          "base_uri": "https://localhost:8080/"
        },
        "outputId": "7db167b9-12fd-449e-ddf5-d85bc2aa3b20"
      },
      "execution_count": null,
      "outputs": [
        {
          "output_type": "stream",
          "name": "stdout",
          "text": [
            "             input: torch.Size([32, 1, 28, 28])\n",
            "       after conv1: torch.Size([32, 6, 28, 28])\n",
            "    after sigmoid1: torch.Size([32, 6, 28, 28])\n",
            "    after avgpool1: torch.Size([32, 6, 14, 14])\n",
            "       after conv2: torch.Size([32, 16, 10, 10])\n",
            "    after sigmoid2: torch.Size([32, 16, 10, 10])\n",
            "    after avgpool2: torch.Size([32, 16, 5, 5])\n",
            "         flattened: torch.Size([32, 400])\n",
            "         after fc1: torch.Size([32, 120])\n",
            "    after sigmoid3: torch.Size([32, 120])\n",
            "         after fc2: torch.Size([32, 84])\n",
            "    after sigmoid4: torch.Size([32, 84])\n",
            "after fc3 (output): torch.Size([32, 10])\n"
          ]
        }
      ]
    },
    {
      "cell_type": "markdown",
      "source": [
        "In general, a PyTorch neural network definition must:\n",
        "- subclass [`nn.Module`](https://pytorch.org/docs/stable/generated/torch.nn.Module.html)\n",
        "- call `super().__init__()` in the constructor (`__init__()`) method\n",
        "- define the trainable parameters/layers (convolutions, linears, poolings, etc.) in the constructor\n",
        "- define what should happen to the inputs in the `forward()` method"
      ],
      "metadata": {
        "id": "9BxZoUpss4Pz"
      }
    },
    {
      "cell_type": "code",
      "source": [
        "# Create your own model for the MNIST data here:\n",
        "# Note! Please do not copy LeNet exactly!\n",
        "class CNN_Network():\n",
        "    pass"
      ],
      "metadata": {
        "id": "Wdp9RkPobRuC"
      },
      "execution_count": null,
      "outputs": []
    },
    {
      "cell_type": "markdown",
      "source": [
        "Below is a useful object for tracking losses/performance during training and dev."
      ],
      "metadata": {
        "id": "pk8hMo_vxzhf"
      }
    },
    {
      "cell_type": "code",
      "source": [
        "class AverageMeter(object):\n",
        "\n",
        "    \"\"\"Computes and stores an average and current value.\"\"\"\n",
        "\n",
        "    def __init__(self):\n",
        "        self.reset()\n",
        "\n",
        "    def reset(self):\n",
        "        self.val = 0\n",
        "        self.avg = 0\n",
        "        self.sum = 0\n",
        "        self.count = 0\n",
        "\n",
        "    def update(self, val, n=1):\n",
        "        self.val = val\n",
        "        self.sum += val * n\n",
        "        self.count += n\n",
        "        self.avg = self.sum / self.count"
      ],
      "metadata": {
        "id": "ar5E7QTSw56k"
      },
      "execution_count": null,
      "outputs": []
    },
    {
      "cell_type": "markdown",
      "source": [
        "We'll define an accuracy metric that flexibly computes top-k accuracies."
      ],
      "metadata": {
        "id": "Cq2ZTU4-19Hi"
      }
    },
    {
      "cell_type": "code",
      "source": [
        "def error_rate(output, target, topk=(1,)):\n",
        "\n",
        "    \"\"\"Computes the top-k error rate for the specified values of k.\"\"\"\n",
        "\n",
        "    maxk = max(topk) # largest k we'll need to work with\n",
        "    batch_size = target.size(0) # determine batch size\n",
        "\n",
        "    # get maxk best predictions for each item in the batch, both values and indices\n",
        "    _, pred = output.topk(maxk, 1, True, True)\n",
        "\n",
        "    # reshape predictions and targets and compare them element-wise\n",
        "    pred = pred.t()\n",
        "    correct = pred.eq(target.view(1, -1).expand_as(pred))\n",
        "\n",
        "    res = []\n",
        "    for k in topk: # for each top-k accuracy we want\n",
        "\n",
        "        # num correct\n",
        "        correct_k = correct[:k].reshape(-1).float().sum(0, keepdim=True)\n",
        "        # num incorrect\n",
        "        wrong_k = batch_size - correct_k\n",
        "        # as a percentage\n",
        "        res.append(wrong_k.mul_(100.0 / batch_size))\n",
        "\n",
        "    return res"
      ],
      "metadata": {
        "id": "er1n5plIlT86"
      },
      "execution_count": null,
      "outputs": []
    },
    {
      "cell_type": "markdown",
      "source": [
        "If you connect to a runtime with a T4 available, this line will ensure computations that can be done on the T4 are done there."
      ],
      "metadata": {
        "id": "p15LFjPHx6Wd"
      }
    },
    {
      "cell_type": "code",
      "source": [
        "device = 'cuda' if torch.cuda.is_available() else 'cpu'"
      ],
      "metadata": {
        "id": "Xaru9TTXbAAG"
      },
      "execution_count": null,
      "outputs": []
    },
    {
      "cell_type": "markdown",
      "source": [
        "The training function below takes the training set's `DataLoader`, the model we are training, the loss function we are using, and the optimizer for this model.\n",
        "\n",
        "It then trains the model on the data for 1 epoch."
      ],
      "metadata": {
        "id": "-8WU1ms3yszg"
      }
    },
    {
      "cell_type": "code",
      "source": [
        "# training function - 1 epoch\n",
        "def train(\n",
        "    train_loader,\n",
        "    model,\n",
        "    criterion,\n",
        "    optimizer,\n",
        "    epoch,\n",
        "    epochs,\n",
        "    print_freq = 100,\n",
        "    verbose = True\n",
        "):\n",
        "\n",
        "    # track average and worst losses\n",
        "    losses = AverageMeter()\n",
        "\n",
        "    # set training mode\n",
        "    model.train()\n",
        "\n",
        "    # iterate over data - automatically shuffled\n",
        "    for i, (images, labels) in enumerate(train_loader):\n",
        "\n",
        "        # put batch of image tensors on GPU\n",
        "        images = images.to(device)\n",
        "        # put batch of label tensors on GPU\n",
        "        labels = labels.to(device)\n",
        "\n",
        "        # zero the parameter gradients\n",
        "        optimizer.zero_grad()\n",
        "\n",
        "        # model output\n",
        "        outputs = model(images)\n",
        "\n",
        "        # loss computation\n",
        "        # print(outputs.shape, labels.shape)\n",
        "        loss = criterion(outputs, labels)\n",
        "\n",
        "        # back propagation\n",
        "        loss.backward()\n",
        "\n",
        "        # update model parameters\n",
        "        optimizer.step()\n",
        "\n",
        "        # update meter with the value of the loss once for each item in the batch\n",
        "        losses.update(loss.item(), images.size(0))\n",
        "\n",
        "        # logging during epoch\n",
        "        if i % print_freq == 0 and verbose == True:\n",
        "            print(\n",
        "                f'Epoch: [{epoch+1}/{epochs}][{i:4}/{len(train_loader)}]\\t'\n",
        "                f'Loss: {losses.val:.4f} ({losses.avg:.4f} on avg)'\n",
        "            )\n",
        "\n",
        "    # log again at end of epoch\n",
        "    print(f'\\n* Epoch: [{epoch+1}/{epochs}]\\tTrain loss: {losses.avg:.3f}\\n')\n",
        "\n",
        "    return losses.avg"
      ],
      "metadata": {
        "id": "kFMDxaNDlRw0"
      },
      "execution_count": null,
      "outputs": []
    },
    {
      "cell_type": "code",
      "source": [
        "# val function\n",
        "def validate(\n",
        "    val_loader,\n",
        "    model,\n",
        "    criterion,\n",
        "    epoch,\n",
        "    epochs,\n",
        "    print_freq = 100,\n",
        "    verbose = True\n",
        "):\n",
        "\n",
        "    # track average and worst losses and batch-wise top-1 and top-5 accuracies\n",
        "    losses = AverageMeter()\n",
        "    top1 = AverageMeter()\n",
        "    top5 = AverageMeter()\n",
        "\n",
        "    # set evaluation mode\n",
        "    model.eval()\n",
        "\n",
        "    # iterate over data - automatically shuffled\n",
        "    for i, (images, labels) in enumerate(val_loader):\n",
        "\n",
        "        # put batch of image tensors on GPU\n",
        "        images = images.to(device)\n",
        "        # put batch of label tensors on GPU\n",
        "        labels = labels.to(device)\n",
        "\n",
        "        # model output\n",
        "        output = model(images)\n",
        "\n",
        "        # loss computation\n",
        "        loss = criterion(output, labels)\n",
        "\n",
        "        # top-1 and top-5 accuracy on this batch\n",
        "        err1, err5, = error_rate(output.data, labels, topk=(1, 5))\n",
        "\n",
        "        # update meters with the value of the loss once\n",
        "        # for each item in the batch\n",
        "        losses.update(loss.item(), images.size(0))\n",
        "        # update meters with top-1 and top-5 accuracy on this batch once\n",
        "        # for each item in the batch\n",
        "        top1.update(err1.item(), images.size(0))\n",
        "        top5.update(err5.item(), images.size(0))\n",
        "\n",
        "        # logging during epoch\n",
        "        if i % print_freq == 0 and verbose == True:\n",
        "            print(\n",
        "                f'Test (on val set): [{epoch+1}/{epochs}][{i:4}/{len(val_loader)}]\\t'\n",
        "                f'Loss: {losses.val:.4f} ({losses.avg:.4f} on avg)\\t'\n",
        "                f'Top-1 err: {top1.val:.4f} ({top1.avg:.4f} on avg)\\t'\n",
        "                f'Top-5 err: {top5.val:.4f} ({top5.avg:.4f} on avg)'\n",
        "            )\n",
        "\n",
        "    # logging for end of epoch\n",
        "    print(\n",
        "        f'\\n* Epoch: [{epoch+1}/{epochs}]\\t'\n",
        "        f'Test loss: {losses.avg:.3f}\\t'\n",
        "        f'Top-1 err: {top1.avg:.3f}\\t'\n",
        "        f'Top-5 err: {top5.avg:.3f}\\n'\n",
        "    )\n",
        "\n",
        "    # avergae top-1 and top-5 accuracies batch-wise, and average loss batch-wise\n",
        "    return top1.avg, top5.avg, losses.avg"
      ],
      "metadata": {
        "id": "DDJnoe7Pu5ez"
      },
      "execution_count": null,
      "outputs": []
    },
    {
      "cell_type": "code",
      "source": [
        "# best error rates so far\n",
        "best_err1 = 100\n",
        "best_err5 = 100"
      ],
      "metadata": {
        "id": "AKwJjLLU11vg"
      },
      "execution_count": null,
      "outputs": []
    },
    {
      "cell_type": "code",
      "source": [
        "# Run the main function.\n",
        "if __name__ == '__main__':\n",
        "\n",
        "    # select a model to train here\n",
        "    model = LeNet()\n",
        "\n",
        "    # move to GPU\n",
        "    model.to(device)\n",
        "\n",
        "    # select number of epochs\n",
        "    epochs = 3\n",
        "    lr = 0.001\n",
        "    momentum = 0.1\n",
        "    # kind = 'SGD'\n",
        "    kind = 'Adam'\n",
        "\n",
        "    # get criterion and optimizer\n",
        "    criterion, optimizer = get_crit_and_opt(model, kind, lr, momentum)\n",
        "\n",
        "    # epoch loop\n",
        "    for epoch in range(0, epochs):\n",
        "\n",
        "        # train for one epoch\n",
        "        train_loss = train(\n",
        "            train_loader,\n",
        "            model,\n",
        "            criterion,\n",
        "            optimizer,\n",
        "            epoch,\n",
        "            epochs\n",
        "        )\n",
        "\n",
        "        # evaluate on validation set\n",
        "        err1, err5, val_loss = validate(\n",
        "            val_loader,\n",
        "            model,\n",
        "            criterion,\n",
        "            epoch,\n",
        "            epochs\n",
        "        )\n",
        "\n",
        "        # remember best prec@1 and save checkpoint\n",
        "        is_best = err1 <= best_err1\n",
        "        best_err1 = min(err1, best_err1)\n",
        "        if is_best:\n",
        "            best_err5 = err5\n",
        "\n",
        "        print(\n",
        "            'Current best error rate (top-1 and top-5 error):',\n",
        "            best_err1, best_err5, '\\n'\n",
        "        )\n",
        "    print('Best error rate (top-1 and top-5 error):', best_err1, best_err5)"
      ],
      "metadata": {
        "id": "hGxrBqkt0IsB",
        "colab": {
          "base_uri": "https://localhost:8080/"
        },
        "outputId": "c7984a0d-c9b3-4893-efba-32bca43d1249"
      },
      "execution_count": null,
      "outputs": [
        {
          "output_type": "stream",
          "name": "stdout",
          "text": [
            "Epoch: [1/3][   0/1875]\tLoss: 2.3165 (2.3165 on avg)\n",
            "Epoch: [1/3][ 100/1875]\tLoss: 2.3313 (2.3115 on avg)\n",
            "Epoch: [1/3][ 200/1875]\tLoss: 1.9670 (2.2720 on avg)\n",
            "Epoch: [1/3][ 300/1875]\tLoss: 1.2362 (2.0371 on avg)\n",
            "Epoch: [1/3][ 400/1875]\tLoss: 0.6606 (1.7785 on avg)\n",
            "Epoch: [1/3][ 500/1875]\tLoss: 0.7309 (1.5782 on avg)\n",
            "Epoch: [1/3][ 600/1875]\tLoss: 0.4914 (1.4168 on avg)\n",
            "Epoch: [1/3][ 700/1875]\tLoss: 0.3318 (1.2875 on avg)\n",
            "Epoch: [1/3][ 800/1875]\tLoss: 0.3037 (1.1836 on avg)\n",
            "Epoch: [1/3][ 900/1875]\tLoss: 0.2392 (1.0962 on avg)\n",
            "Epoch: [1/3][1000/1875]\tLoss: 0.3149 (1.0205 on avg)\n",
            "Epoch: [1/3][1100/1875]\tLoss: 0.4641 (0.9585 on avg)\n",
            "Epoch: [1/3][1200/1875]\tLoss: 0.3922 (0.9038 on avg)\n",
            "Epoch: [1/3][1300/1875]\tLoss: 0.3548 (0.8566 on avg)\n",
            "Epoch: [1/3][1400/1875]\tLoss: 0.3410 (0.8149 on avg)\n",
            "Epoch: [1/3][1500/1875]\tLoss: 0.1588 (0.7770 on avg)\n",
            "Epoch: [1/3][1600/1875]\tLoss: 0.1589 (0.7456 on avg)\n",
            "Epoch: [1/3][1700/1875]\tLoss: 0.3468 (0.7165 on avg)\n",
            "Epoch: [1/3][1800/1875]\tLoss: 0.1898 (0.6902 on avg)\n",
            "\n",
            "* Epoch: [1/3]\tTrain loss: 0.671\n",
            "\n",
            "Test (on val set): [1/3][   0/157]\tLoss: 0.1954 (0.1954 on avg)\tTop-1 err: 6.2500 (6.2500 on avg)\tTop-5 err: 0.0000 (0.0000 on avg)\n",
            "Test (on val set): [1/3][ 100/157]\tLoss: 0.1912 (0.1892 on avg)\tTop-1 err: 3.1250 (5.1980 on avg)\tTop-5 err: 0.0000 (0.1238 on avg)\n",
            "\n",
            "* Epoch: [1/3]\tTest loss: 0.183\tTop-1 err: 5.020\tTop-5 err: 0.100\n",
            "\n",
            "Current best error rate (top-1 and top-5 error): 5.02 0.1 \n",
            "\n",
            "Epoch: [2/3][   0/1875]\tLoss: 0.3430 (0.3430 on avg)\n",
            "Epoch: [2/3][ 100/1875]\tLoss: 0.4540 (0.2100 on avg)\n",
            "Epoch: [2/3][ 200/1875]\tLoss: 0.1063 (0.2081 on avg)\n",
            "Epoch: [2/3][ 300/1875]\tLoss: 0.3764 (0.2053 on avg)\n",
            "Epoch: [2/3][ 400/1875]\tLoss: 0.1718 (0.2070 on avg)\n",
            "Epoch: [2/3][ 500/1875]\tLoss: 0.1153 (0.2002 on avg)\n",
            "Epoch: [2/3][ 600/1875]\tLoss: 0.1558 (0.1959 on avg)\n",
            "Epoch: [2/3][ 700/1875]\tLoss: 0.1203 (0.1911 on avg)\n",
            "Epoch: [2/3][ 800/1875]\tLoss: 0.0403 (0.1873 on avg)\n",
            "Epoch: [2/3][ 900/1875]\tLoss: 0.1710 (0.1844 on avg)\n",
            "Epoch: [2/3][1000/1875]\tLoss: 0.1645 (0.1807 on avg)\n",
            "Epoch: [2/3][1100/1875]\tLoss: 0.1248 (0.1799 on avg)\n",
            "Epoch: [2/3][1200/1875]\tLoss: 0.0585 (0.1787 on avg)\n",
            "Epoch: [2/3][1300/1875]\tLoss: 0.1293 (0.1764 on avg)\n",
            "Epoch: [2/3][1400/1875]\tLoss: 0.1911 (0.1747 on avg)\n",
            "Epoch: [2/3][1500/1875]\tLoss: 0.1302 (0.1718 on avg)\n",
            "Epoch: [2/3][1600/1875]\tLoss: 0.0563 (0.1692 on avg)\n",
            "Epoch: [2/3][1700/1875]\tLoss: 0.1004 (0.1668 on avg)\n",
            "Epoch: [2/3][1800/1875]\tLoss: 0.1159 (0.1651 on avg)\n",
            "\n",
            "* Epoch: [2/3]\tTrain loss: 0.163\n",
            "\n",
            "Test (on val set): [2/3][   0/157]\tLoss: 0.0431 (0.0431 on avg)\tTop-1 err: 0.0000 (0.0000 on avg)\tTop-5 err: 0.0000 (0.0000 on avg)\n",
            "Test (on val set): [2/3][ 100/157]\tLoss: 0.1286 (0.1092 on avg)\tTop-1 err: 3.1250 (3.4344 on avg)\tTop-5 err: 0.0000 (0.0619 on avg)\n",
            "\n",
            "* Epoch: [2/3]\tTest loss: 0.106\tTop-1 err: 3.200\tTop-5 err: 0.080\n",
            "\n",
            "Current best error rate (top-1 and top-5 error): 3.2 0.08 \n",
            "\n",
            "Epoch: [3/3][   0/1875]\tLoss: 0.0763 (0.0763 on avg)\n",
            "Epoch: [3/3][ 100/1875]\tLoss: 0.1534 (0.1299 on avg)\n",
            "Epoch: [3/3][ 200/1875]\tLoss: 0.4391 (0.1233 on avg)\n",
            "Epoch: [3/3][ 300/1875]\tLoss: 0.0429 (0.1276 on avg)\n",
            "Epoch: [3/3][ 400/1875]\tLoss: 0.1163 (0.1320 on avg)\n",
            "Epoch: [3/3][ 500/1875]\tLoss: 0.2248 (0.1272 on avg)\n",
            "Epoch: [3/3][ 600/1875]\tLoss: 0.0648 (0.1230 on avg)\n",
            "Epoch: [3/3][ 700/1875]\tLoss: 0.0794 (0.1224 on avg)\n",
            "Epoch: [3/3][ 800/1875]\tLoss: 0.0140 (0.1190 on avg)\n",
            "Epoch: [3/3][ 900/1875]\tLoss: 0.0759 (0.1180 on avg)\n",
            "Epoch: [3/3][1000/1875]\tLoss: 0.2431 (0.1167 on avg)\n",
            "Epoch: [3/3][1100/1875]\tLoss: 0.1245 (0.1148 on avg)\n",
            "Epoch: [3/3][1200/1875]\tLoss: 0.1608 (0.1139 on avg)\n",
            "Epoch: [3/3][1300/1875]\tLoss: 0.0874 (0.1123 on avg)\n",
            "Epoch: [3/3][1400/1875]\tLoss: 0.1046 (0.1103 on avg)\n",
            "Epoch: [3/3][1500/1875]\tLoss: 0.1034 (0.1098 on avg)\n",
            "Epoch: [3/3][1600/1875]\tLoss: 0.2035 (0.1098 on avg)\n",
            "Epoch: [3/3][1700/1875]\tLoss: 0.3565 (0.1084 on avg)\n",
            "Epoch: [3/3][1800/1875]\tLoss: 0.1284 (0.1076 on avg)\n",
            "\n",
            "* Epoch: [3/3]\tTrain loss: 0.107\n",
            "\n",
            "Test (on val set): [3/3][   0/157]\tLoss: 0.1195 (0.1195 on avg)\tTop-1 err: 6.2500 (6.2500 on avg)\tTop-5 err: 0.0000 (0.0000 on avg)\n",
            "Test (on val set): [3/3][ 100/157]\tLoss: 0.0410 (0.0805 on avg)\tTop-1 err: 0.0000 (2.3824 on avg)\tTop-5 err: 0.0000 (0.0000 on avg)\n",
            "\n",
            "* Epoch: [3/3]\tTest loss: 0.085\tTop-1 err: 2.400\tTop-5 err: 0.020\n",
            "\n",
            "Current best error rate (top-1 and top-5 error): 2.4 0.02 \n",
            "\n",
            "Best error rate (top-1 and top-5 error): 2.4 0.02\n"
          ]
        }
      ]
    },
    {
      "cell_type": "markdown",
      "source": [
        "A SciKit-Learn [classification report](https://scikit-learn.org/stable/modules/generated/sklearn.metrics.classification_report.html) will show accuracy, classwise precision, recall, and F1, as well as averaged metrics over the classes."
      ],
      "metadata": {
        "id": "tl1xnaY-m1kX"
      }
    },
    {
      "cell_type": "code",
      "source": [
        "# Create a classification report for one model\n",
        "from sklearn.metrics import classification_report\n",
        "\n",
        "# get the true classes and model predictions for the test set for one model\n",
        "# y_true = the true numerical classes\n",
        "# y_pred = predicted numerical classes\n",
        "# target_names = string names of the classes\n",
        "y_true = []\n",
        "y_pred = []\n",
        "target_names = [str(x) for x in range(10)]\n",
        "\n",
        "with torch.no_grad():\n",
        "    model.eval()\n",
        "    for images, labels in test_loader:\n",
        "        images = images.to(device)\n",
        "        labels = labels.to(device)\n",
        "\n",
        "        output = model(images)\n",
        "\n",
        "        y_true.extend(labels.tolist())\n",
        "        y_pred.extend(output.argmax(dim=1).tolist())\n",
        "\n",
        "print(classification_report(y_true, y_pred, target_names=target_names))"
      ],
      "metadata": {
        "id": "j6l7WQ7QnDGj",
        "colab": {
          "base_uri": "https://localhost:8080/"
        },
        "outputId": "1430136c-b259-4528-e657-30e35d9e8325"
      },
      "execution_count": null,
      "outputs": [
        {
          "output_type": "stream",
          "name": "stderr",
          "text": [
            "/usr/local/lib/python3.11/dist-packages/torch/utils/data/dataloader.py:617: UserWarning: This DataLoader will create 4 worker processes in total. Our suggested max number of worker in current system is 2, which is smaller than what this DataLoader is going to create. Please be aware that excessive worker creation might get DataLoader running slow or even freeze, lower the worker number to avoid potential slowness/freeze if necessary.\n",
            "  warnings.warn(\n"
          ]
        },
        {
          "output_type": "stream",
          "name": "stdout",
          "text": [
            "              precision    recall  f1-score   support\n",
            "\n",
            "           0       0.97      0.98      0.97       451\n",
            "           1       0.97      0.99      0.98       553\n",
            "           2       0.99      0.96      0.98       495\n",
            "           3       0.97      0.97      0.97       530\n",
            "           4       0.98      0.96      0.97       501\n",
            "           5       0.94      0.98      0.96       449\n",
            "           6       0.98      0.97      0.97       460\n",
            "           7       0.98      0.98      0.98       531\n",
            "           8       0.96      0.98      0.97       508\n",
            "           9       0.99      0.93      0.95       522\n",
            "\n",
            "    accuracy                           0.97      5000\n",
            "   macro avg       0.97      0.97      0.97      5000\n",
            "weighted avg       0.97      0.97      0.97      5000\n",
            "\n"
          ]
        }
      ]
    }
  ]
}