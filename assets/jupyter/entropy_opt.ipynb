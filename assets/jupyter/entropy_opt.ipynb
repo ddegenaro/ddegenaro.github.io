{
 "cells": [
  {
   "cell_type": "markdown",
   "metadata": {},
   "source": [
    "# Entropy optimization using PyTorch"
   ]
  },
  {
   "cell_type": "markdown",
   "metadata": {},
   "source": [
    "First, let's import some things from PyTorch that we'll need to perform this optimization. We'll use PyTorch's optimization framework to create a distribution with our desired entropy.\n",
    "\n",
    "- We'll rely on some functions from the root `torch` module.\n",
    "- We'll use the `nn` module to create an `nn.Param` to store the distribution itself.\n",
    "- Finally, for compatibility with a Python language server, I find it's nice to import `Tensor` so that I can use it in type hints."
   ]
  },
  {
   "cell_type": "code",
   "execution_count": null,
   "metadata": {},
   "outputs": [],
   "source": [
    "import torch\n",
    "from torch import nn\n",
    "from torch import Tensor"
   ]
  },
  {
   "cell_type": "markdown",
   "metadata": {},
   "source": [
    "Let's define a custom loss function that we can use to bring our distribution's entropy closer to our target entropy. A simple way to do this is (with gradients enabled):\n",
    "\n",
    "- Normalize the distribution to sum to 1.\n",
    "- Calculate the entropy of the distribution.\n",
    "- Use a distance metric such as Mean Squared Error to compare the distribution's entropy to the target entropy.\n",
    "\n",
    "Despite its simplicity, this works shockingly well!"
   ]
  },
  {
   "cell_type": "code",
   "execution_count": null,
   "metadata": {},
   "outputs": [],
   "source": [
    "class MSEAgainstEntropyLoss(nn.Module):\n",
    "    \n",
    "    def __init__(self):\n",
    "        super().__init__()\n",
    "        \n",
    "    def forward(self, dist: Tensor, true_entropy: Tensor) -> Tensor:\n",
    "        \n",
    "        # normalize the distribution\n",
    "        dist = torch.softmax(dist, dim=0)\n",
    "        \n",
    "        # calculate the entropy\n",
    "        approx_entropy = -(dist * dist.log()).sum()\n",
    "        \n",
    "        # calculate the mean squared error\n",
    "        mse = (approx_entropy - true_entropy) ** 2\n",
    "        \n",
    "        # return the loss tensor\n",
    "        return mse"
   ]
  },
  {
   "cell_type": "markdown",
   "metadata": {},
   "source": [
    "Now, we'll define a function that returns a distribution with the desired entropy (or as close as we can get). It will take the following arguments:\n",
    "\n",
    "- `criterion (nn.Module)`: The loss function to use to optimize the entropy (in this case, it will just be the class we defined above).\n",
    "- `support_size (int)`: The number of outcomes we want our random variable to have.\n",
    "- `desired_entropy (float)`: The entropy we want our distribution to have.\n",
    "- `lr (float)`: The learning rate for the optimization algorithm.\n",
    "- `tol (float)`: The tolerance for the optimization algorithm. We will stop when the loss is less than this value.\n",
    "- `max_iter (int)`: The maximum number of iterations to run the optimization algorithm.\n",
    "- `do_logging (bool)`: Whether to log the loss during optimization.\n",
    "- `log_freq (int)`: How often to log the loss during optimization."
   ]
  },
  {
   "cell_type": "code",
   "execution_count": null,
   "metadata": {},
   "outputs": [],
   "source": [
    "def get_dist(\n",
    "    criterion: nn.Module,\n",
    "    support_size: int,\n",
    "    desired_entropy: float,\n",
    "    lr: float = 0.001,\n",
    "    tol: float = 1e-6,\n",
    "    max_iter: int = 100_000,\n",
    "    do_logging: bool = True,\n",
    "    log_freq: int = 200\n",
    ") -> Tensor:\n",
    "    \n",
    "    # define a parameter (gradient updates possible) with the right support size\n",
    "    dist = nn.Parameter(torch.randn((support_size,), dtype=torch.float64))\n",
    "    dist.requires_grad = True\n",
    "    \n",
    "    # make a torch.Tensor with the desired entropy to compute loss\n",
    "    DE = torch.tensor(desired_entropy, dtype=torch.float64)\n",
    "    DE.requires_grad = False\n",
    "    \n",
    "    # define an optimizer over the parameter\n",
    "    optimizer = torch.optim.AdamW([dist], lr=lr)\n",
    "    \n",
    "    i = 0\n",
    "    if do_logging:\n",
    "        print('-----------------------------------------------------')\n",
    "    while True:\n",
    "        \n",
    "        # optimize the parameter\n",
    "        optimizer.zero_grad()\n",
    "        loss = criterion(dist, DE)\n",
    "        loss.backward()\n",
    "        optimizer.step()\n",
    "        \n",
    "        # log the loss\n",
    "        if (i % log_freq == 0):\n",
    "            loss_val = loss.item()\n",
    "            if do_logging:\n",
    "                print(f'loss: {loss_val:.4}')\n",
    "            if loss_val < tol: # we are done if the loss is small enough\n",
    "                break\n",
    "        i += 1 # count iterations\n",
    "        \n",
    "        # give up if max_iter is reached\n",
    "        if i > max_iter:\n",
    "            msg = 'Optimization did not converge!'\n",
    "            Warning(msg)\n",
    "            break\n",
    "    \n",
    "    # renormalize\n",
    "    final_dist = torch.softmax(dist, dim=0)\n",
    "    \n",
    "    # summary of results\n",
    "    if do_logging:\n",
    "        print('-----------------------------------------------------')\n",
    "        print(f'sum of probabilities (should be 1): {final_dist.sum()}')\n",
    "        approx_entropy = -(final_dist * final_dist.log()).sum()\n",
    "        print('-----------------------------------------------------')\n",
    "        print(f'desired entropy:    {desired_entropy}')\n",
    "        print(f'true entropy:       {approx_entropy.item()}')\n",
    "        print('-----------------------------------------------------')\n",
    "    \n",
    "    return final_dist"
   ]
  }
 ],
 "metadata": {
  "kernelspec": {
   "display_name": "Python 3",
   "language": "python",
   "name": "python3"
  },
  "language_info": {
   "codemirror_mode": {
    "name": "ipython",
    "version": 3
   },
   "file_extension": ".py",
   "mimetype": "text/x-python",
   "name": "python",
   "nbconvert_exporter": "python",
   "pygments_lexer": "ipython3",
   "version": "3.11.0"
  }
 },
 "nbformat": 4,
 "nbformat_minor": 2
}
